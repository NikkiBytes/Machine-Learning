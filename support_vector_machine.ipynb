{
 "cells": [
  {
   "cell_type": "code",
   "execution_count": 2,
   "metadata": {
    "collapsed": false
   },
   "outputs": [],
   "source": [
    "import pandas as pd\n",
    "from sklearn.preprocessing import scale\n",
    "\n",
    "\n",
    "\n"
   ]
  },
  {
   "cell_type": "code",
   "execution_count": 303,
   "metadata": {
    "collapsed": false
   },
   "outputs": [
    {
     "data": {
      "text/plain": [
       "269"
      ]
     },
     "execution_count": 303,
     "metadata": {},
     "output_type": "execute_result"
    }
   ],
   "source": [
    "data = pd.read_csv('heartdataset.csv')\n",
    "df = pd.DataFrame(data)\n",
    "df_norm = (df - df.mean()) / (df.max() - df.min())\n",
    "n_samples = len(data)\n",
    "n_samples"
   ]
  },
  {
   "cell_type": "code",
   "execution_count": 278,
   "metadata": {
    "collapsed": false
   },
   "outputs": [
    {
     "data": {
      "text/plain": [
       "array([[ 67.,   0.,   3., ...,   0.,   7.,   1.],\n",
       "       [ 57.,   1.,   2., ...,   0.,   7.,   2.],\n",
       "       [ 64.,   1.,   4., ...,   1.,   7.,   1.],\n",
       "       ..., \n",
       "       [ 56.,   0.,   2., ...,   0.,   3.,   1.],\n",
       "       [ 57.,   1.,   4., ...,   0.,   6.,   1.],\n",
       "       [ 67.,   1.,   4., ...,   3.,   3.,   2.]])"
      ]
     },
     "execution_count": 278,
     "metadata": {},
     "output_type": "execute_result"
    }
   ],
   "source": [
    "df.values"
   ]
  },
  {
   "cell_type": "code",
   "execution_count": 279,
   "metadata": {
    "collapsed": false
   },
   "outputs": [
    {
     "data": {
      "text/plain": [
       "array([[ 0.26301115, -0.67657993, -0.05700124, ..., -0.22057001,\n",
       "         0.57434944, -0.44237918],\n",
       "       [ 0.05467782,  0.32342007, -0.39033457, ..., -0.22057001,\n",
       "         0.57434944,  0.55762082],\n",
       "       [ 0.20051115,  0.32342007,  0.27633209, ...,  0.11276332,\n",
       "         0.57434944, -0.44237918],\n",
       "       ..., \n",
       "       [ 0.03384449, -0.67657993, -0.39033457, ..., -0.22057001,\n",
       "        -0.42565056, -0.44237918],\n",
       "       [ 0.05467782,  0.32342007,  0.27633209, ..., -0.22057001,\n",
       "         0.32434944, -0.44237918],\n",
       "       [ 0.26301115,  0.32342007,  0.27633209, ...,  0.77942999,\n",
       "        -0.42565056,  0.55762082]])"
      ]
     },
     "execution_count": 279,
     "metadata": {},
     "output_type": "execute_result"
    }
   ],
   "source": [
    "df_norm.values"
   ]
  },
  {
   "cell_type": "code",
   "execution_count": 53,
   "metadata": {
    "collapsed": false
   },
   "outputs": [
    {
     "data": {
      "text/html": [
       "<div>\n",
       "<table border=\"1\" class=\"dataframe\">\n",
       "  <thead>\n",
       "    <tr style=\"text-align: right;\">\n",
       "      <th></th>\n",
       "      <th>70</th>\n",
       "      <th>1</th>\n",
       "      <th>4</th>\n",
       "      <th>130</th>\n",
       "      <th>322</th>\n",
       "      <th>0</th>\n",
       "      <th>2</th>\n",
       "      <th>109</th>\n",
       "      <th>0.1</th>\n",
       "      <th>2.4</th>\n",
       "      <th>2.1</th>\n",
       "      <th>3</th>\n",
       "      <th>3.1</th>\n",
       "      <th>2.2</th>\n",
       "    </tr>\n",
       "  </thead>\n",
       "  <tbody>\n",
       "    <tr>\n",
       "      <th>264</th>\n",
       "      <td>52</td>\n",
       "      <td>1</td>\n",
       "      <td>3</td>\n",
       "      <td>172</td>\n",
       "      <td>199</td>\n",
       "      <td>1</td>\n",
       "      <td>0</td>\n",
       "      <td>162</td>\n",
       "      <td>0</td>\n",
       "      <td>0.5</td>\n",
       "      <td>1</td>\n",
       "      <td>0</td>\n",
       "      <td>7</td>\n",
       "      <td>1</td>\n",
       "    </tr>\n",
       "    <tr>\n",
       "      <th>265</th>\n",
       "      <td>44</td>\n",
       "      <td>1</td>\n",
       "      <td>2</td>\n",
       "      <td>120</td>\n",
       "      <td>263</td>\n",
       "      <td>0</td>\n",
       "      <td>0</td>\n",
       "      <td>173</td>\n",
       "      <td>0</td>\n",
       "      <td>0.0</td>\n",
       "      <td>1</td>\n",
       "      <td>0</td>\n",
       "      <td>7</td>\n",
       "      <td>1</td>\n",
       "    </tr>\n",
       "    <tr>\n",
       "      <th>266</th>\n",
       "      <td>56</td>\n",
       "      <td>0</td>\n",
       "      <td>2</td>\n",
       "      <td>140</td>\n",
       "      <td>294</td>\n",
       "      <td>0</td>\n",
       "      <td>2</td>\n",
       "      <td>153</td>\n",
       "      <td>0</td>\n",
       "      <td>1.3</td>\n",
       "      <td>2</td>\n",
       "      <td>0</td>\n",
       "      <td>3</td>\n",
       "      <td>1</td>\n",
       "    </tr>\n",
       "    <tr>\n",
       "      <th>267</th>\n",
       "      <td>57</td>\n",
       "      <td>1</td>\n",
       "      <td>4</td>\n",
       "      <td>140</td>\n",
       "      <td>192</td>\n",
       "      <td>0</td>\n",
       "      <td>0</td>\n",
       "      <td>148</td>\n",
       "      <td>0</td>\n",
       "      <td>0.4</td>\n",
       "      <td>2</td>\n",
       "      <td>0</td>\n",
       "      <td>6</td>\n",
       "      <td>1</td>\n",
       "    </tr>\n",
       "    <tr>\n",
       "      <th>268</th>\n",
       "      <td>67</td>\n",
       "      <td>1</td>\n",
       "      <td>4</td>\n",
       "      <td>160</td>\n",
       "      <td>286</td>\n",
       "      <td>0</td>\n",
       "      <td>2</td>\n",
       "      <td>108</td>\n",
       "      <td>1</td>\n",
       "      <td>1.5</td>\n",
       "      <td>2</td>\n",
       "      <td>3</td>\n",
       "      <td>3</td>\n",
       "      <td>2</td>\n",
       "    </tr>\n",
       "  </tbody>\n",
       "</table>\n",
       "</div>"
      ],
      "text/plain": [
       "     70  1  4  130  322  0  2  109  0.1  2.4  2.1  3  3.1  2.2\n",
       "264  52  1  3  172  199  1  0  162    0  0.5    1  0    7    1\n",
       "265  44  1  2  120  263  0  0  173    0  0.0    1  0    7    1\n",
       "266  56  0  2  140  294  0  2  153    0  1.3    2  0    3    1\n",
       "267  57  1  4  140  192  0  0  148    0  0.4    2  0    6    1\n",
       "268  67  1  4  160  286  0  2  108    1  1.5    2  3    3    2"
      ]
     },
     "execution_count": 53,
     "metadata": {},
     "output_type": "execute_result"
    }
   ],
   "source": [
    "data.tail()"
   ]
  },
  {
   "cell_type": "code",
   "execution_count": 89,
   "metadata": {
    "collapsed": false
   },
   "outputs": [
    {
     "data": {
      "text/plain": [
       "2.2    True\n",
       "dtype: bool"
      ]
     },
     "execution_count": 89,
     "metadata": {},
     "output_type": "execute_result"
    }
   ],
   "source": [
    "df[['2.2']].isnull()\n",
    "df[['2.2']].any()\n"
   ]
  },
  {
   "cell_type": "code",
   "execution_count": 11,
   "metadata": {
    "collapsed": false
   },
   "outputs": [
    {
     "data": {
      "image/png": "[encoded data removed]",
      "text/plain": [
       "<matplotlib.figure.Figure at 0x1d286bd0cc0>"
      ]
     },
     "metadata": {},
     "output_type": "display_data"
    }
   ],
   "source": [
    "%matplotlib inline\n",
    "import matplotlib.pyplot as plt\n",
    "\n",
    "pd.DataFrame.hist(data, figsize=[15,15]);"
   ]
  },
  {
   "cell_type": "markdown",
   "metadata": {
    "collapsed": false
   },
   "source": [
    "Part 2: Sample Selection\n",
    "1. For this part of the assignment, you will be using the first 200 samples for training and cross validation and the remainder for testing.\n",
    "2. Extract the feature columns and target column from the dataset for both training and testing subsets."
   ]
  },
  {
   "cell_type": "markdown",
   "metadata": {},
   "source": [
    "Part 3: Building a SVM Classifier\n",
    "In this part you will build a SVM classifier and train it using this data.\n",
    "Requirements:\n",
    "1. Using the training data split train a linear SVM.\n",
    "2. Using GridSearchCV with 5-folds try different values for C.\n",
    "3. What is the best performing C value you found?\n"
   ]
  },
  {
   "cell_type": "code",
   "execution_count": 387,
   "metadata": {
    "collapsed": false,
    "scrolled": true
   },
   "outputs": [],
   "source": [
    "from sklearn.model_selection import train_test_split\n",
    "from sklearn import svm\n",
    "from sklearn.model_selection import GridSearchCV\n"
   ]
  },
  {
   "cell_type": "code",
   "execution_count": 405,
   "metadata": {
    "collapsed": false
   },
   "outputs": [
    {
     "data": {
      "text/plain": [
       "<bound method BaseSearchCV.score of GridSearchCV(cv=5, error_score='raise',\n",
       "       estimator=LinearSVC(C=1.0, class_weight=None, dual=True, fit_intercept=True,\n",
       "     intercept_scaling=1, loss='squared_hinge', max_iter=1000,\n",
       "     multi_class='ovr', penalty='l2', random_state=None, tol=0.0001,\n",
       "     verbose=0),\n",
       "       fit_params={}, iid=True, n_jobs=1,\n",
       "       param_grid={'C': [1, 10, 100, 1000]}, pre_dispatch='2*n_jobs',\n",
       "       refit=True, return_train_score=True, scoring=None, verbose=0)>"
      ]
     },
     "execution_count": 405,
     "metadata": {},
     "output_type": "execute_result"
    }
   ],
   "source": [
    "import numpy as np\n",
    "from sklearn.metrics import accuracy_score\n",
    "\n",
    "trainingX = df[0:201]\n",
    "\n",
    "testingX = df[202::]\n",
    "\n",
    "\n",
    "Xtrain = trainingX[['70','1','4','130','322','0','2','109','0.1','2.4','2.1','3','3.1']]\n",
    "xTR = Xtrain.values\n",
    "Xtest= testingX[['70','1','4','130','322','0','2','109','0.1','2.4','2.1','3','3.1']]\n",
    "xTS = Xtest.values\n",
    "# Extract the feature columns and target column from the dataset for both training and testing subsets.\n",
    "\n",
    "\n",
    "\n",
    "\n",
    "trainingX = df[0:201].values\n",
    "\n",
    "testingX = df[202::].values\n",
    "\n",
    "ytrain = [] \n",
    "ytest = [] \n",
    "for a in trainingX:\n",
    "    t = a[13]\n",
    "    ytrain.append(t)\n",
    "for a in testingX:\n",
    "    t = a[13]\n",
    "    ytest.append(t)\n",
    "yTS = np.asarray(ytest)\n",
    "yTR = np.asarray(ytrain)\n",
    "\n",
    "X_train, X_test, y_train, y_test = train_test_split(trainingX,yTR, test_size=0.2, random_state=0)\n",
    "parameters =  {'C': [1, 10, 100, 1000]}\n",
    "estimator = svm.LinearSVC()\n",
    "clf = GridSearchCV(estimator, parameters, cv=5)\n",
    "clf.fit(X_train, y_train)\n",
    "clf.predict(X_test)\n",
    "clf.score"
   ]
  },
  {
   "cell_type": "markdown",
   "metadata": {},
   "source": [
    "4. How many support vectors does this model use? \n"
   ]
  },
  {
   "cell_type": "code",
   "execution_count": 389,
   "metadata": {
    "collapsed": false
   },
   "outputs": [
    {
     "data": {
      "text/plain": [
       "LinearSVC(C=1, class_weight=None, dual=True, fit_intercept=True,\n",
       "     intercept_scaling=1, loss='squared_hinge', max_iter=1000,\n",
       "     multi_class='ovr', penalty='l2', random_state=None, tol=0.0001,\n",
       "     verbose=0)"
      ]
     },
     "execution_count": 389,
     "metadata": {},
     "output_type": "execute_result"
    }
   ],
   "source": [
    "clf.best_estimator_"
   ]
  },
  {
   "cell_type": "code",
   "execution_count": 390,
   "metadata": {
    "collapsed": false
   },
   "outputs": [
    {
     "data": {
      "text/plain": [
       "{'mean_fit_time': array([ 0.01211066,  0.00960751,  0.00910606,  0.00900588]),\n",
       " 'mean_score_time': array([ 0.0002995 ,  0.00019989,  0.00020027,  0.00020022]),\n",
       " 'mean_test_score': array([ 0.875  ,  0.84375,  0.78125,  0.83125]),\n",
       " 'mean_train_score': array([ 0.89228268,  0.85159407,  0.82829248,  0.82033444]),\n",
       " 'param_C': masked_array(data = [1 10 100 1000],\n",
       "              mask = [False False False False],\n",
       "        fill_value = ?),\n",
       " 'params': ({'C': 1}, {'C': 10}, {'C': 100}, {'C': 1000}),\n",
       " 'rank_test_score': array([1, 2, 4, 3]),\n",
       " 'split0_test_score': array([ 0.78787879,  0.75757576,  0.75757576,  0.78787879]),\n",
       " 'split0_train_score': array([ 0.92913386,  0.80314961,  0.91338583,  0.90551181]),\n",
       " 'split1_test_score': array([ 0.8125 ,  0.84375,  0.71875,  0.65625]),\n",
       " 'split1_train_score': array([ 0.8984375,  0.9140625,  0.84375  ,  0.515625 ]),\n",
       " 'split2_test_score': array([ 0.9375 ,  0.9375 ,  0.90625,  0.875  ]),\n",
       " 'split2_train_score': array([ 0.875    ,  0.8984375,  0.90625  ,  0.890625 ]),\n",
       " 'split3_test_score': array([ 0.90625,  0.90625,  0.6875 ,  0.90625]),\n",
       " 'split3_train_score': array([ 0.890625 ,  0.859375 ,  0.671875 ,  0.8984375]),\n",
       " 'split4_test_score': array([ 0.93548387,  0.77419355,  0.83870968,  0.93548387]),\n",
       " 'split4_train_score': array([ 0.86821705,  0.78294574,  0.80620155,  0.89147287]),\n",
       " 'std_fit_time': array([ 0.00308872,  0.00079655,  0.00037489,  0.00063286]),\n",
       " 'std_score_time': array([ 0.00024455,  0.00024482,  0.00024528,  0.00024522]),\n",
       " 'std_test_score': array([ 0.06349856,  0.07076763,  0.08012083,  0.10062712]),\n",
       " 'std_train_score': array([ 0.02133769,  0.05141326,  0.08776289,  0.1524497 ])}"
      ]
     },
     "execution_count": 390,
     "metadata": {},
     "output_type": "execute_result"
    }
   ],
   "source": [
    "clf.cv_results_"
   ]
  },
  {
   "cell_type": "markdown",
   "metadata": {},
   "source": [
    "5. Using this C value with the linear SVM classifier test the performance on the test set.\n",
    "6. What is the accuracy of this classifier?\n"
   ]
  },
  {
   "cell_type": "code",
   "execution_count": 406,
   "metadata": {
    "collapsed": false
   },
   "outputs": [
    {
     "data": {
      "text/plain": [
       "<bound method BaseSearchCV.score of GridSearchCV(cv=5, error_score='raise',\n",
       "       estimator=LinearSVC(C=1.0, class_weight=None, dual=True, fit_intercept=True,\n",
       "     intercept_scaling=1, loss='squared_hinge', max_iter=1000,\n",
       "     multi_class='ovr', penalty='l2', random_state=None, tol=0.0001,\n",
       "     verbose=0),\n",
       "       fit_params={}, iid=True, n_jobs=1, param_grid={'C': [1]},\n",
       "       pre_dispatch='2*n_jobs', refit=True, return_train_score=True,\n",
       "       scoring=None, verbose=0)>"
      ]
     },
     "execution_count": 406,
     "metadata": {},
     "output_type": "execute_result"
    }
   ],
   "source": [
    "X_train, X_test, y_train, y_test = train_test_split(testingX,yTS, test_size=0.2, random_state=0)\n",
    "parameters =  {'C': [1]}\n",
    "estimator = svm.LinearSVC()\n",
    "clf = GridSearchCV(estimator, parameters, cv=5)\n",
    "clf.fit(X_train, y_train)\n",
    "clf.predict(X_test)\n",
    "clf.score"
   ]
  },
  {
   "cell_type": "code",
   "execution_count": 392,
   "metadata": {
    "collapsed": false
   },
   "outputs": [
    {
     "data": {
      "text/plain": [
       "0.71698113207547165"
      ]
     },
     "execution_count": 392,
     "metadata": {},
     "output_type": "execute_result"
    }
   ],
   "source": [
    "clf.cv_results_\n",
    "clf.best_score_\n",
    "    "
   ]
  },
  {
   "cell_type": "markdown",
   "metadata": {},
   "source": [
    "7. Using the training data split train a SVM with a radial kernel.\n",
    "8. Using GridSearchCV with 5-folds try different values for C.\n",
    "9. What is the best performing C value you found?\n",
    "10. How many support vectors does this model use?\n"
   ]
  },
  {
   "cell_type": "code",
   "execution_count": 393,
   "metadata": {
    "collapsed": false
   },
   "outputs": [
    {
     "data": {
      "text/plain": [
       "array([ 1.,  1.,  1.,  1.,  1.,  1.,  1.,  1.,  1.,  1.,  1.,  1.,  1.,\n",
       "        1.,  1.,  1.,  1.,  1.,  1.,  1.,  1.,  1.,  1.,  1.,  1.,  1.,\n",
       "        1.,  1.,  1.,  1.,  1.,  1.,  1.,  1.,  1.,  1.,  1.,  1.,  1.,\n",
       "        1.,  1.])"
      ]
     },
     "execution_count": 393,
     "metadata": {},
     "output_type": "execute_result"
    }
   ],
   "source": [
    "X_train, X_test, y_train, y_test = train_test_split(trainingX,yTR, test_size=0.2, random_state=0)\n",
    "parameters =  {'C': [1, 10, 100, 1000]}\n",
    "estimator = svm.SVC()\n",
    "clf = GridSearchCV(estimator, parameters, cv=5)\n",
    "clf.fit(X_train, y_train)\n",
    "clf.predict(X_test)\n"
   ]
  },
  {
   "cell_type": "code",
   "execution_count": 394,
   "metadata": {
    "collapsed": false
   },
   "outputs": [
    {
     "data": {
      "text/plain": [
       "{'mean_fit_time': array([ 0.00189776,  0.0021008 ,  0.00220337,  0.00220256]),\n",
       " 'mean_score_time': array([ 0.00050073,  0.00060105,  0.00059962,  0.00039792]),\n",
       " 'mean_test_score': array([ 0.5875,  0.5875,  0.5875,  0.5875]),\n",
       " 'mean_train_score': array([ 1.,  1.,  1.,  1.]),\n",
       " 'param_C': masked_array(data = [1 10 100 1000],\n",
       "              mask = [False False False False],\n",
       "        fill_value = ?),\n",
       " 'params': ({'C': 1}, {'C': 10}, {'C': 100}, {'C': 1000}),\n",
       " 'rank_test_score': array([1, 1, 1, 1]),\n",
       " 'split0_test_score': array([ 0.57575758,  0.57575758,  0.57575758,  0.57575758]),\n",
       " 'split0_train_score': array([ 1.,  1.,  1.,  1.]),\n",
       " 'split1_test_score': array([ 0.59375,  0.59375,  0.59375,  0.59375]),\n",
       " 'split1_train_score': array([ 1.,  1.,  1.,  1.]),\n",
       " 'split2_test_score': array([ 0.59375,  0.59375,  0.59375,  0.59375]),\n",
       " 'split2_train_score': array([ 1.,  1.,  1.,  1.]),\n",
       " 'split3_test_score': array([ 0.59375,  0.59375,  0.59375,  0.59375]),\n",
       " 'split3_train_score': array([ 1.,  1.,  1.,  1.]),\n",
       " 'split4_test_score': array([ 0.58064516,  0.58064516,  0.58064516,  0.58064516]),\n",
       " 'split4_train_score': array([ 1.,  1.,  1.,  1.]),\n",
       " 'std_fit_time': array([ 0.00036857,  0.00020071,  0.00051288,  0.00092974]),\n",
       " 'std_score_time': array([ 0.00031643,  0.00020027,  0.00037309,  0.00019913]),\n",
       " 'std_test_score': array([ 0.00780899,  0.00780899,  0.00780899,  0.00780899]),\n",
       " 'std_train_score': array([ 0.,  0.,  0.,  0.])}"
      ]
     },
     "execution_count": 394,
     "metadata": {},
     "output_type": "execute_result"
    }
   ],
   "source": [
    "clf.cv_results_\n"
   ]
  },
  {
   "cell_type": "code",
   "execution_count": 395,
   "metadata": {
    "collapsed": false
   },
   "outputs": [
    {
     "data": {
      "text/plain": [
       "0.58750000000000002"
      ]
     },
     "execution_count": 395,
     "metadata": {},
     "output_type": "execute_result"
    }
   ],
   "source": [
    "clf.best_score_\n",
    "    "
   ]
  },
  {
   "cell_type": "code",
   "execution_count": 396,
   "metadata": {
    "collapsed": false
   },
   "outputs": [
    {
     "data": {
      "text/plain": [
       "SVC(C=1, cache_size=200, class_weight=None, coef0=0.0,\n",
       "  decision_function_shape=None, degree=3, gamma='auto', kernel='rbf',\n",
       "  max_iter=-1, probability=False, random_state=None, shrinking=True,\n",
       "  tol=0.001, verbose=False)"
      ]
     },
     "execution_count": 396,
     "metadata": {},
     "output_type": "execute_result"
    }
   ],
   "source": [
    "clf.best_estimator_"
   ]
  },
  {
   "cell_type": "markdown",
   "metadata": {},
   "source": [
    "11. Using this C value with the linear SVM classifier test the performance on the test set.\n",
    "12. What is the accuracy of this classifier?\n",
    "13. Which model performed best on the test data?\n",
    "14. What does all this tell you about the dataset?"
   ]
  },
  {
   "cell_type": "code",
   "execution_count": 407,
   "metadata": {
    "collapsed": false
   },
   "outputs": [
    {
     "data": {
      "text/plain": [
       "<bound method BaseSearchCV.score of GridSearchCV(cv=5, error_score='raise',\n",
       "       estimator=SVC(C=1.0, cache_size=200, class_weight=None, coef0=0.0,\n",
       "  decision_function_shape=None, degree=3, gamma='auto', kernel='rbf',\n",
       "  max_iter=-1, probability=False, random_state=None, shrinking=True,\n",
       "  tol=0.001, verbose=False),\n",
       "       fit_params={}, iid=True, n_jobs=1, param_grid={'C': [1]},\n",
       "       pre_dispatch='2*n_jobs', refit=True, return_train_score=True,\n",
       "       scoring=None, verbose=0)>"
      ]
     },
     "execution_count": 407,
     "metadata": {},
     "output_type": "execute_result"
    }
   ],
   "source": [
    "X_train, X_test, y_train, y_test = train_test_split(testingX,yTS, test_size=0.2, random_state=0)\n",
    "parameters =  {'C': [1]}\n",
    "estimator = svm.SVC()\n",
    "clf = GridSearchCV(estimator, parameters, cv=5)\n",
    "clf.fit(X_train, y_train)\n",
    "clf.predict(X_test)\n",
    "clf.score"
   ]
  },
  {
   "cell_type": "code",
   "execution_count": 398,
   "metadata": {
    "collapsed": false
   },
   "outputs": [
    {
     "data": {
      "text/plain": [
       "{'mean_fit_time': array([ 0.00080018]),\n",
       " 'mean_score_time': array([ 0.0004005]),\n",
       " 'mean_test_score': array([ 0.54716981]),\n",
       " 'mean_train_score': array([ 1.]),\n",
       " 'param_C': masked_array(data = [1],\n",
       "              mask = [False],\n",
       "        fill_value = ?),\n",
       " 'params': ({'C': 1},),\n",
       " 'rank_test_score': array([1]),\n",
       " 'split0_test_score': array([ 0.54545455]),\n",
       " 'split0_train_score': array([ 1.]),\n",
       " 'split1_test_score': array([ 0.54545455]),\n",
       " 'split1_train_score': array([ 1.]),\n",
       " 'split2_test_score': array([ 0.54545455]),\n",
       " 'split2_train_score': array([ 1.]),\n",
       " 'split3_test_score': array([ 0.54545455]),\n",
       " 'split3_train_score': array([ 1.]),\n",
       " 'split4_test_score': array([ 0.55555556]),\n",
       " 'split4_train_score': array([ 1.]),\n",
       " 'std_fit_time': array([ 0.00024425]),\n",
       " 'std_score_time': array([ 0.00020025]),\n",
       " 'std_test_score': array([ 0.0037926]),\n",
       " 'std_train_score': array([ 0.])}"
      ]
     },
     "execution_count": 398,
     "metadata": {},
     "output_type": "execute_result"
    }
   ],
   "source": [
    "clf.cv_results_"
   ]
  },
  {
   "cell_type": "code",
   "execution_count": 399,
   "metadata": {
    "collapsed": false
   },
   "outputs": [
    {
     "data": {
      "text/plain": [
       "0.54716981132075471"
      ]
     },
     "execution_count": 399,
     "metadata": {},
     "output_type": "execute_result"
    }
   ],
   "source": [
    "clf.best_score_\n",
    "    "
   ]
  }
 ],
 "metadata": {
  "kernelspec": {
   "display_name": "Python [Root]",
   "language": "python",
   "name": "Python [Root]"
  },
  "language_info": {
   "codemirror_mode": {
    "name": "ipython",
    "version": 3
   },
   "file_extension": ".py",
   "mimetype": "text/x-python",
   "name": "python",
   "nbconvert_exporter": "python",
   "pygments_lexer": "ipython3",
   "version": "3.5.2"
  }
 },
 "nbformat": 4,
 "nbformat_minor": 0
}

